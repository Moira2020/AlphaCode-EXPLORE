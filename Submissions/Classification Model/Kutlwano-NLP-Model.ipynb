{
 "cells": [
  {
   "cell_type": "markdown",
   "metadata": {
    "colab_type": "text",
    "id": "sIsmmwJKJvfB"
   },
   "source": [
    "# Kutlwano NLP Bank Statement Model"
   ]
  },
  {
   "cell_type": "markdown",
   "metadata": {
    "colab_type": "text",
    "id": "PH_nz6C-JvfD"
   },
   "source": [
    "Building a classification model for bank statement data"
   ]
  },
  {
   "cell_type": "markdown",
   "metadata": {
    "colab_type": "text",
    "id": "0PYcAts9JvfF"
   },
   "source": [
    "## Import Packages"
   ]
  },
  {
   "cell_type": "code",
   "execution_count": 1,
   "metadata": {
    "colab": {
     "autoexec": {
      "startup": false,
      "wait_interval": 0
     }
    },
    "colab_type": "code",
    "id": "U_WHScRcJvfM"
   },
   "outputs": [
    {
     "name": "stderr",
     "output_type": "stream",
     "text": [
      "[nltk_data] Downloading package stopwords to\n",
      "[nltk_data]     C:\\Users\\kutlw\\AppData\\Roaming\\nltk_data...\n",
      "[nltk_data]   Package stopwords is already up-to-date!\n",
      "[nltk_data] Downloading package wordnet to\n",
      "[nltk_data]     C:\\Users\\kutlw\\AppData\\Roaming\\nltk_data...\n",
      "[nltk_data]   Package wordnet is already up-to-date!\n"
     ]
    },
    {
     "data": {
      "text/plain": [
       "True"
      ]
     },
     "execution_count": 1,
     "metadata": {},
     "output_type": "execute_result"
    }
   ],
   "source": [
    "import numpy as np\n",
    "import pandas as pd\n",
    "import matplotlib.pyplot as plt\n",
    "import seaborn as sns\n",
    "%matplotlib inline\n",
    "\n",
    "import sqlalchemy as sa\n",
    "from sqlalchemy import create_engine\n",
    "from sqlalchemy import Table, Column, Integer, String, MetaData\n",
    "from sklearn.model_selection import train_test_split\n",
    "\n",
    "import nltk\n",
    "\n",
    "nltk.download('stopwords')\n",
    "nltk.download('wordnet')"
   ]
  },
  {
   "cell_type": "markdown",
   "metadata": {},
   "source": [
    "## Connect to Database"
   ]
  },
  {
   "cell_type": "code",
   "execution_count": 2,
   "metadata": {
    "colab": {
     "autoexec": {
      "startup": false,
      "wait_interval": 0
     }
    },
    "colab_type": "code",
    "id": "_H3YuV66JvfU",
    "outputId": "d2c99738-8d70-4919-e3c3-23b7a9fd1282"
   },
   "outputs": [],
   "source": [
    "Username = 'admin'\n",
    "Password = 'amazing_people'\n",
    "Host = 'alphacode-explore.ccwgqdqrrmvt.eu-west-1.rds.amazonaws.com'\n",
    "Port = '1433'\n",
    "Database = 'Kutlwano'"
   ]
  },
  {
   "cell_type": "code",
   "execution_count": 3,
   "metadata": {},
   "outputs": [],
   "source": [
    "connection = create_engine(\n",
    "    'mssql+pymssql://' +\n",
    "    Username + ':' + Password + '@' + Host + ':' + Port + '/' + Database\n",
    ")"
   ]
  },
  {
   "cell_type": "code",
   "execution_count": 4,
   "metadata": {},
   "outputs": [],
   "source": [
    "sql_query1 = \"Select * from Bank_Statment\""
   ]
  },
  {
   "cell_type": "code",
   "execution_count": 5,
   "metadata": {},
   "outputs": [
    {
     "data": {
      "text/html": [
       "<div>\n",
       "<style scoped>\n",
       "    .dataframe tbody tr th:only-of-type {\n",
       "        vertical-align: middle;\n",
       "    }\n",
       "\n",
       "    .dataframe tbody tr th {\n",
       "        vertical-align: top;\n",
       "    }\n",
       "\n",
       "    .dataframe thead th {\n",
       "        text-align: right;\n",
       "    }\n",
       "</style>\n",
       "<table border=\"1\" class=\"dataframe\">\n",
       "  <thead>\n",
       "    <tr style=\"text-align: right;\">\n",
       "      <th></th>\n",
       "      <th>Transaction Date</th>\n",
       "      <th>Posting Date</th>\n",
       "      <th>Description</th>\n",
       "      <th>Debits</th>\n",
       "      <th>Credits</th>\n",
       "      <th>Category</th>\n",
       "      <th>Column 6</th>\n",
       "      <th>CATEGORIES</th>\n",
       "    </tr>\n",
       "  </thead>\n",
       "  <tbody>\n",
       "    <tr>\n",
       "      <td>0</td>\n",
       "      <td>2020/02/10</td>\n",
       "      <td>2020/02/10</td>\n",
       "      <td>MTN DATA BUNDLES</td>\n",
       "      <td>499</td>\n",
       "      <td></td>\n",
       "      <td>COMMUNICATION</td>\n",
       "      <td></td>\n",
       "      <td>HOME</td>\n",
       "    </tr>\n",
       "    <tr>\n",
       "      <td>1</td>\n",
       "      <td>2020/02/08</td>\n",
       "      <td>2020/02/09</td>\n",
       "      <td>APPLE.COM/BILL CORK IE</td>\n",
       "      <td>74,99</td>\n",
       "      <td></td>\n",
       "      <td>ENTERTAINMENT &amp; EAT OUT</td>\n",
       "      <td></td>\n",
       "      <td>FOOD</td>\n",
       "    </tr>\n",
       "    <tr>\n",
       "      <td>2</td>\n",
       "      <td>2020/02/07</td>\n",
       "      <td>2020/02/09</td>\n",
       "      <td>PARKHURST HARDWARE    RE PARKHURST ZA</td>\n",
       "      <td>75</td>\n",
       "      <td></td>\n",
       "      <td>HOME</td>\n",
       "      <td></td>\n",
       "      <td>TRANSPORT</td>\n",
       "    </tr>\n",
       "    <tr>\n",
       "      <td>3</td>\n",
       "      <td>2020/02/07</td>\n",
       "      <td>2020/02/08</td>\n",
       "      <td>SEATTLE RENNIES HOUSE JOHANNESBURG ZA</td>\n",
       "      <td>31,5</td>\n",
       "      <td></td>\n",
       "      <td>ENTERTAINMENT &amp; EAT OUT</td>\n",
       "      <td></td>\n",
       "      <td>LIFE AND HEALTH</td>\n",
       "    </tr>\n",
       "    <tr>\n",
       "      <td>4</td>\n",
       "      <td>2020/02/07</td>\n",
       "      <td>2020/02/08</td>\n",
       "      <td>FLM RENNIE HOUSE EATER BRAAMFONTEIN ZA</td>\n",
       "      <td>29,98</td>\n",
       "      <td></td>\n",
       "      <td>ENTERTAINMENT &amp; EAT OUT</td>\n",
       "      <td></td>\n",
       "      <td>COMMUNICATION</td>\n",
       "    </tr>\n",
       "  </tbody>\n",
       "</table>\n",
       "</div>"
      ],
      "text/plain": [
       "  Transaction Date Posting Date                             Description  \\\n",
       "0       2020/02/10   2020/02/10                        MTN DATA BUNDLES   \n",
       "1       2020/02/08   2020/02/09                  APPLE.COM/BILL CORK IE   \n",
       "2       2020/02/07   2020/02/09   PARKHURST HARDWARE    RE PARKHURST ZA   \n",
       "3       2020/02/07   2020/02/08   SEATTLE RENNIES HOUSE JOHANNESBURG ZA   \n",
       "4       2020/02/07   2020/02/08  FLM RENNIE HOUSE EATER BRAAMFONTEIN ZA   \n",
       "\n",
       "  Debits Credits                 Category Column 6       CATEGORIES  \n",
       "0    499                    COMMUNICATION                      HOME  \n",
       "1  74,99          ENTERTAINMENT & EAT OUT                      FOOD  \n",
       "2     75                             HOME                 TRANSPORT  \n",
       "3   31,5          ENTERTAINMENT & EAT OUT           LIFE AND HEALTH  \n",
       "4  29,98          ENTERTAINMENT & EAT OUT             COMMUNICATION  "
      ]
     },
     "execution_count": 5,
     "metadata": {},
     "output_type": "execute_result"
    }
   ],
   "source": [
    "df = pd.read_sql_query(sql_query1, connection)\n",
    "df.head()"
   ]
  },
  {
   "cell_type": "markdown",
   "metadata": {
    "colab_type": "text",
    "id": "An-7sNbcJvfh"
   },
   "source": [
    "## EDA"
   ]
  },
  {
   "cell_type": "code",
   "execution_count": 6,
   "metadata": {
    "colab": {
     "autoexec": {
      "startup": false,
      "wait_interval": 0
     }
    },
    "colab_type": "code",
    "id": "TvVFU45tJvfi"
   },
   "outputs": [
    {
     "data": {
      "text/plain": [
       "0              COMMUNICATION\n",
       "1    ENTERTAINMENT & EAT OUT\n",
       "2                       HOME\n",
       "3    ENTERTAINMENT & EAT OUT\n",
       "4    ENTERTAINMENT & EAT OUT\n",
       "Name: Category, dtype: object"
      ]
     },
     "execution_count": 6,
     "metadata": {},
     "output_type": "execute_result"
    }
   ],
   "source": [
    "y = df['Category']\n",
    "\n",
    "y.head()"
   ]
  },
  {
   "cell_type": "code",
   "execution_count": 7,
   "metadata": {
    "colab": {
     "autoexec": {
      "startup": false,
      "wait_interval": 0
     }
    },
    "colab_type": "code",
    "id": "tjs7D9TeJvfn"
   },
   "outputs": [
    {
     "data": {
      "text/plain": [
       "array(['MTN DATA BUNDLES', 'APPLE.COM/BILL CORK IE',\n",
       "       'PARKHURST HARDWARE    RE PARKHURST ZA',\n",
       "       'SEATTLE RENNIES HOUSE JOHANNESBURG ZA',\n",
       "       'FLM RENNIE HOUSE EATER BRAAMFONTEIN ZA'], dtype=object)"
      ]
     },
     "execution_count": 7,
     "metadata": {},
     "output_type": "execute_result"
    }
   ],
   "source": [
    "df_DesValue = df.Description.values\n",
    "df_DesValue1 = df.Description.values\n",
    "df_DesValue[:5]"
   ]
  },
  {
   "cell_type": "markdown",
   "metadata": {
    "colab_type": "text",
    "id": "vTGDcuWSJvgN"
   },
   "source": [
    "### Bag of Words"
   ]
  },
  {
   "cell_type": "code",
   "execution_count": 8,
   "metadata": {
    "colab": {
     "autoexec": {
      "startup": false,
      "wait_interval": 0
     }
    },
    "colab_type": "code",
    "id": "FkwLGwE0JvgT"
   },
   "outputs": [
    {
     "data": {
      "text/plain": [
       "(939, 20)"
      ]
     },
     "execution_count": 8,
     "metadata": {},
     "output_type": "execute_result"
    }
   ],
   "source": [
    "from sklearn.feature_extraction.text import CountVectorizer\n",
    "vect = CountVectorizer(max_features=1000)\n",
    "vect.fit(df['Category'])\n",
    "vect.transform(df['Category']).shape"
   ]
  },
  {
   "cell_type": "code",
   "execution_count": 9,
   "metadata": {
    "colab": {
     "autoexec": {
      "startup": false,
      "wait_interval": 0
     }
    },
    "colab_type": "code",
    "id": "7z1FC4XPJvge"
   },
   "outputs": [
    {
     "data": {
      "text/html": [
       "<div>\n",
       "<style scoped>\n",
       "    .dataframe tbody tr th:only-of-type {\n",
       "        vertical-align: middle;\n",
       "    }\n",
       "\n",
       "    .dataframe tbody tr th {\n",
       "        vertical-align: top;\n",
       "    }\n",
       "\n",
       "    .dataframe thead th {\n",
       "        text-align: right;\n",
       "    }\n",
       "</style>\n",
       "<table border=\"1\" class=\"dataframe\">\n",
       "  <thead>\n",
       "    <tr style=\"text-align: right;\">\n",
       "      <th></th>\n",
       "      <th>and</th>\n",
       "      <th>communication</th>\n",
       "      <th>credit</th>\n",
       "      <th>donations</th>\n",
       "      <th>eat</th>\n",
       "      <th>education</th>\n",
       "      <th>entertainment</th>\n",
       "      <th>fees</th>\n",
       "      <th>food</th>\n",
       "      <th>gifts</th>\n",
       "      <th>health</th>\n",
       "      <th>home</th>\n",
       "      <th>investment</th>\n",
       "      <th>life</th>\n",
       "      <th>other</th>\n",
       "      <th>out</th>\n",
       "      <th>saving</th>\n",
       "      <th>short</th>\n",
       "      <th>term</th>\n",
       "      <th>transport</th>\n",
       "    </tr>\n",
       "  </thead>\n",
       "  <tbody>\n",
       "    <tr>\n",
       "      <td>0</td>\n",
       "      <td>0</td>\n",
       "      <td>1</td>\n",
       "      <td>0</td>\n",
       "      <td>0</td>\n",
       "      <td>0</td>\n",
       "      <td>0</td>\n",
       "      <td>0</td>\n",
       "      <td>0</td>\n",
       "      <td>0</td>\n",
       "      <td>0</td>\n",
       "      <td>0</td>\n",
       "      <td>0</td>\n",
       "      <td>0</td>\n",
       "      <td>0</td>\n",
       "      <td>0</td>\n",
       "      <td>0</td>\n",
       "      <td>0</td>\n",
       "      <td>0</td>\n",
       "      <td>0</td>\n",
       "      <td>0</td>\n",
       "    </tr>\n",
       "    <tr>\n",
       "      <td>1</td>\n",
       "      <td>0</td>\n",
       "      <td>0</td>\n",
       "      <td>0</td>\n",
       "      <td>0</td>\n",
       "      <td>1</td>\n",
       "      <td>0</td>\n",
       "      <td>1</td>\n",
       "      <td>0</td>\n",
       "      <td>0</td>\n",
       "      <td>0</td>\n",
       "      <td>0</td>\n",
       "      <td>0</td>\n",
       "      <td>0</td>\n",
       "      <td>0</td>\n",
       "      <td>0</td>\n",
       "      <td>1</td>\n",
       "      <td>0</td>\n",
       "      <td>0</td>\n",
       "      <td>0</td>\n",
       "      <td>0</td>\n",
       "    </tr>\n",
       "    <tr>\n",
       "      <td>2</td>\n",
       "      <td>0</td>\n",
       "      <td>0</td>\n",
       "      <td>0</td>\n",
       "      <td>0</td>\n",
       "      <td>0</td>\n",
       "      <td>0</td>\n",
       "      <td>0</td>\n",
       "      <td>0</td>\n",
       "      <td>0</td>\n",
       "      <td>0</td>\n",
       "      <td>0</td>\n",
       "      <td>1</td>\n",
       "      <td>0</td>\n",
       "      <td>0</td>\n",
       "      <td>0</td>\n",
       "      <td>0</td>\n",
       "      <td>0</td>\n",
       "      <td>0</td>\n",
       "      <td>0</td>\n",
       "      <td>0</td>\n",
       "    </tr>\n",
       "    <tr>\n",
       "      <td>3</td>\n",
       "      <td>0</td>\n",
       "      <td>0</td>\n",
       "      <td>0</td>\n",
       "      <td>0</td>\n",
       "      <td>1</td>\n",
       "      <td>0</td>\n",
       "      <td>1</td>\n",
       "      <td>0</td>\n",
       "      <td>0</td>\n",
       "      <td>0</td>\n",
       "      <td>0</td>\n",
       "      <td>0</td>\n",
       "      <td>0</td>\n",
       "      <td>0</td>\n",
       "      <td>0</td>\n",
       "      <td>1</td>\n",
       "      <td>0</td>\n",
       "      <td>0</td>\n",
       "      <td>0</td>\n",
       "      <td>0</td>\n",
       "    </tr>\n",
       "    <tr>\n",
       "      <td>4</td>\n",
       "      <td>0</td>\n",
       "      <td>0</td>\n",
       "      <td>0</td>\n",
       "      <td>0</td>\n",
       "      <td>1</td>\n",
       "      <td>0</td>\n",
       "      <td>1</td>\n",
       "      <td>0</td>\n",
       "      <td>0</td>\n",
       "      <td>0</td>\n",
       "      <td>0</td>\n",
       "      <td>0</td>\n",
       "      <td>0</td>\n",
       "      <td>0</td>\n",
       "      <td>0</td>\n",
       "      <td>1</td>\n",
       "      <td>0</td>\n",
       "      <td>0</td>\n",
       "      <td>0</td>\n",
       "      <td>0</td>\n",
       "    </tr>\n",
       "  </tbody>\n",
       "</table>\n",
       "</div>"
      ],
      "text/plain": [
       "   and  communication  credit  donations  eat  education  entertainment  fees  \\\n",
       "0    0              1       0          0    0          0              0     0   \n",
       "1    0              0       0          0    1          0              1     0   \n",
       "2    0              0       0          0    0          0              0     0   \n",
       "3    0              0       0          0    1          0              1     0   \n",
       "4    0              0       0          0    1          0              1     0   \n",
       "\n",
       "   food  gifts  health  home  investment  life  other  out  saving  short  \\\n",
       "0     0      0       0     0           0     0      0    0       0      0   \n",
       "1     0      0       0     0           0     0      0    1       0      0   \n",
       "2     0      0       0     1           0     0      0    0       0      0   \n",
       "3     0      0       0     0           0     0      0    1       0      0   \n",
       "4     0      0       0     0           0     0      0    1       0      0   \n",
       "\n",
       "   term  transport  \n",
       "0     0          0  \n",
       "1     0          0  \n",
       "2     0          0  \n",
       "3     0          0  \n",
       "4     0          0  "
      ]
     },
     "execution_count": 9,
     "metadata": {},
     "output_type": "execute_result"
    }
   ],
   "source": [
    "pd.DataFrame(vect.transform(df['Category']).toarray(), columns=sorted(vect.vocabulary_.keys())).head()"
   ]
  },
  {
   "cell_type": "markdown",
   "metadata": {
    "colab_type": "text",
    "id": "bXPZf3KAJvgt"
   },
   "source": [
    "### Tuning"
   ]
  },
  {
   "cell_type": "code",
   "execution_count": 10,
   "metadata": {
    "colab": {
     "autoexec": {
      "startup": false,
      "wait_interval": 0
     }
    },
    "colab_type": "code",
    "id": "FyvB5htuJvgu"
   },
   "outputs": [],
   "source": [
    "vect2 = CountVectorizer(stop_words='english', \n",
    "                             max_features=500, \n",
    "                             ngram_range=(1, 1))"
   ]
  },
  {
   "cell_type": "code",
   "execution_count": 11,
   "metadata": {
    "colab": {
     "autoexec": {
      "startup": false,
      "wait_interval": 0
     }
    },
    "colab_type": "code",
    "id": "MMlrjKyaJvgz"
   },
   "outputs": [
    {
     "data": {
      "text/plain": [
       "CountVectorizer(analyzer='word', binary=False, decode_error='strict',\n",
       "                dtype=<class 'numpy.int64'>, encoding='utf-8', input='content',\n",
       "                lowercase=True, max_df=1.0, max_features=500, min_df=1,\n",
       "                ngram_range=(1, 1), preprocessor=None, stop_words='english',\n",
       "                strip_accents=None, token_pattern='(?u)\\\\b\\\\w\\\\w+\\\\b',\n",
       "                tokenizer=None, vocabulary=None)"
      ]
     },
     "execution_count": 11,
     "metadata": {},
     "output_type": "execute_result"
    }
   ],
   "source": [
    "vect2.fit(df['Category'])"
   ]
  },
  {
   "cell_type": "code",
   "execution_count": 12,
   "metadata": {
    "colab": {
     "autoexec": {
      "startup": false,
      "wait_interval": 0
     }
    },
    "colab_type": "code",
    "id": "4agds8YiJvhU",
    "outputId": "9d811326-7c0a-4be9-aa12-05723c04da76"
   },
   "outputs": [
    {
     "data": {
      "text/plain": [
       "(939, 17)"
      ]
     },
     "execution_count": 12,
     "metadata": {},
     "output_type": "execute_result"
    }
   ],
   "source": [
    "vect2.transform(df['Category']).shape"
   ]
  },
  {
   "cell_type": "code",
   "execution_count": 13,
   "metadata": {
    "colab": {
     "autoexec": {
      "startup": false,
      "wait_interval": 0
     }
    },
    "colab_type": "code",
    "id": "a2iyIKxnJviW",
    "outputId": "09c6ee4b-40ef-42a7-e36b-77ee3c1a4a0d"
   },
   "outputs": [
    {
     "data": {
      "text/html": [
       "<div>\n",
       "<style scoped>\n",
       "    .dataframe tbody tr th:only-of-type {\n",
       "        vertical-align: middle;\n",
       "    }\n",
       "\n",
       "    .dataframe tbody tr th {\n",
       "        vertical-align: top;\n",
       "    }\n",
       "\n",
       "    .dataframe thead th {\n",
       "        text-align: right;\n",
       "    }\n",
       "</style>\n",
       "<table border=\"1\" class=\"dataframe\">\n",
       "  <thead>\n",
       "    <tr style=\"text-align: right;\">\n",
       "      <th></th>\n",
       "      <th>communication</th>\n",
       "      <th>credit</th>\n",
       "      <th>donations</th>\n",
       "      <th>eat</th>\n",
       "      <th>education</th>\n",
       "      <th>entertainment</th>\n",
       "      <th>fees</th>\n",
       "      <th>food</th>\n",
       "      <th>gifts</th>\n",
       "      <th>health</th>\n",
       "      <th>home</th>\n",
       "      <th>investment</th>\n",
       "      <th>life</th>\n",
       "      <th>saving</th>\n",
       "      <th>short</th>\n",
       "      <th>term</th>\n",
       "      <th>transport</th>\n",
       "    </tr>\n",
       "  </thead>\n",
       "  <tbody>\n",
       "    <tr>\n",
       "      <td>0</td>\n",
       "      <td>1</td>\n",
       "      <td>0</td>\n",
       "      <td>0</td>\n",
       "      <td>0</td>\n",
       "      <td>0</td>\n",
       "      <td>0</td>\n",
       "      <td>0</td>\n",
       "      <td>0</td>\n",
       "      <td>0</td>\n",
       "      <td>0</td>\n",
       "      <td>0</td>\n",
       "      <td>0</td>\n",
       "      <td>0</td>\n",
       "      <td>0</td>\n",
       "      <td>0</td>\n",
       "      <td>0</td>\n",
       "      <td>0</td>\n",
       "    </tr>\n",
       "    <tr>\n",
       "      <td>1</td>\n",
       "      <td>0</td>\n",
       "      <td>0</td>\n",
       "      <td>0</td>\n",
       "      <td>1</td>\n",
       "      <td>0</td>\n",
       "      <td>1</td>\n",
       "      <td>0</td>\n",
       "      <td>0</td>\n",
       "      <td>0</td>\n",
       "      <td>0</td>\n",
       "      <td>0</td>\n",
       "      <td>0</td>\n",
       "      <td>0</td>\n",
       "      <td>0</td>\n",
       "      <td>0</td>\n",
       "      <td>0</td>\n",
       "      <td>0</td>\n",
       "    </tr>\n",
       "    <tr>\n",
       "      <td>2</td>\n",
       "      <td>0</td>\n",
       "      <td>0</td>\n",
       "      <td>0</td>\n",
       "      <td>0</td>\n",
       "      <td>0</td>\n",
       "      <td>0</td>\n",
       "      <td>0</td>\n",
       "      <td>0</td>\n",
       "      <td>0</td>\n",
       "      <td>0</td>\n",
       "      <td>1</td>\n",
       "      <td>0</td>\n",
       "      <td>0</td>\n",
       "      <td>0</td>\n",
       "      <td>0</td>\n",
       "      <td>0</td>\n",
       "      <td>0</td>\n",
       "    </tr>\n",
       "    <tr>\n",
       "      <td>3</td>\n",
       "      <td>0</td>\n",
       "      <td>0</td>\n",
       "      <td>0</td>\n",
       "      <td>1</td>\n",
       "      <td>0</td>\n",
       "      <td>1</td>\n",
       "      <td>0</td>\n",
       "      <td>0</td>\n",
       "      <td>0</td>\n",
       "      <td>0</td>\n",
       "      <td>0</td>\n",
       "      <td>0</td>\n",
       "      <td>0</td>\n",
       "      <td>0</td>\n",
       "      <td>0</td>\n",
       "      <td>0</td>\n",
       "      <td>0</td>\n",
       "    </tr>\n",
       "    <tr>\n",
       "      <td>4</td>\n",
       "      <td>0</td>\n",
       "      <td>0</td>\n",
       "      <td>0</td>\n",
       "      <td>1</td>\n",
       "      <td>0</td>\n",
       "      <td>1</td>\n",
       "      <td>0</td>\n",
       "      <td>0</td>\n",
       "      <td>0</td>\n",
       "      <td>0</td>\n",
       "      <td>0</td>\n",
       "      <td>0</td>\n",
       "      <td>0</td>\n",
       "      <td>0</td>\n",
       "      <td>0</td>\n",
       "      <td>0</td>\n",
       "      <td>0</td>\n",
       "    </tr>\n",
       "  </tbody>\n",
       "</table>\n",
       "</div>"
      ],
      "text/plain": [
       "   communication  credit  donations  eat  education  entertainment  fees  \\\n",
       "0              1       0          0    0          0              0     0   \n",
       "1              0       0          0    1          0              1     0   \n",
       "2              0       0          0    0          0              0     0   \n",
       "3              0       0          0    1          0              1     0   \n",
       "4              0       0          0    1          0              1     0   \n",
       "\n",
       "   food  gifts  health  home  investment  life  saving  short  term  transport  \n",
       "0     0      0       0     0           0     0       0      0     0          0  \n",
       "1     0      0       0     0           0     0       0      0     0          0  \n",
       "2     0      0       0     1           0     0       0      0     0          0  \n",
       "3     0      0       0     0           0     0       0      0     0          0  \n",
       "4     0      0       0     0           0     0       0      0     0          0  "
      ]
     },
     "execution_count": 13,
     "metadata": {},
     "output_type": "execute_result"
    }
   ],
   "source": [
    "pd.DataFrame(vect2.transform(df['Category']).toarray(), columns=sorted(vect2.vocabulary_.keys())).head()"
   ]
  },
  {
   "cell_type": "markdown",
   "metadata": {
    "colab_type": "text",
    "id": "YMRil5UCJvie"
   },
   "source": [
    "### Noise Removal"
   ]
  },
  {
   "cell_type": "code",
   "execution_count": 14,
   "metadata": {
    "colab": {
     "autoexec": {
      "startup": false,
      "wait_interval": 0
     }
    },
    "colab_type": "code",
    "id": "JlBCZNFRJvik"
   },
   "outputs": [],
   "source": [
    "# import libraries\n",
    "import string\n",
    "from nltk.stem import WordNetLemmatizer\n",
    "from nltk.corpus import stopwords\n",
    "\n",
    "# create stop words and lemmatizer instances\n",
    "stop_words = set(stopwords.words('english')) \n",
    "lemmatizer = WordNetLemmatizer()\n",
    "\n",
    "# create function to clean text\n",
    "def clean_text(text):\n",
    "    text = text.lower()\n",
    "    text = ''.join([word for word in text if word not in string.punctuation])\n",
    "    text = [lemmatizer.lemmatize(word) for word in text.split(' ')]\n",
    "    text = [word for word in text if not word in stop_words]\n",
    "    text = ' '.join(text)\n",
    "    return text\n",
    "\n",
    "X = df['Description'].apply(lambda x: clean_text(x))"
   ]
  },
  {
   "cell_type": "code",
   "execution_count": 15,
   "metadata": {
    "colab": {
     "autoexec": {
      "startup": false,
      "wait_interval": 0
     }
    },
    "colab_type": "code",
    "id": "luCNcgCVJvin",
    "outputId": "591cff4a-27c5-45c8-c093-bf8bdf039471"
   },
   "outputs": [
    {
     "data": {
      "text/plain": [
       "0                             mtn data bundle\n",
       "1                        applecombill cork ie\n",
       "2          parkhurst hardware    parkhurst za\n",
       "3       seattle rennies house johannesburg za\n",
       "4      flm rennie house eater braamfontein za\n",
       "                        ...                  \n",
       "934                                          \n",
       "935                                          \n",
       "936                                          \n",
       "937                                          \n",
       "938                                          \n",
       "Name: Description, Length: 939, dtype: object"
      ]
     },
     "execution_count": 15,
     "metadata": {},
     "output_type": "execute_result"
    }
   ],
   "source": [
    "X[:]"
   ]
  },
  {
   "cell_type": "code",
   "execution_count": 16,
   "metadata": {
    "colab": {
     "autoexec": {
      "startup": false,
      "wait_interval": 0
     }
    },
    "colab_type": "code",
    "id": "s1H_SFBUJviw",
    "outputId": "d0afd52a-01d1-4adf-cc9d-94e7806ea15b"
   },
   "outputs": [
    {
     "name": "stdout",
     "output_type": "stream",
     "text": [
      "  (0, 420)\t1\n",
      "  (0, 295)\t1\n",
      "  (0, 232)\t1\n"
     ]
    }
   ],
   "source": [
    "vect2 = CountVectorizer()\n",
    "df_Descript3 = vect2.fit_transform(X)\n",
    "print(df_Descript3[0])"
   ]
  },
  {
   "cell_type": "markdown",
   "metadata": {
    "colab_type": "text",
    "id": "pL3U498EJvlM"
   },
   "source": [
    "## KNN Model"
   ]
  },
  {
   "cell_type": "markdown",
   "metadata": {},
   "source": [
    "### Transforming Features"
   ]
  },
  {
   "cell_type": "code",
   "execution_count": 17,
   "metadata": {},
   "outputs": [],
   "source": [
    "X_transformed = pd.get_dummies(X, drop_first=True)"
   ]
  },
  {
   "cell_type": "markdown",
   "metadata": {},
   "source": [
    "### Rescaling and Standardizing Features"
   ]
  },
  {
   "cell_type": "code",
   "execution_count": 18,
   "metadata": {},
   "outputs": [],
   "source": [
    "from sklearn.preprocessing import StandardScaler\n",
    "scaler = StandardScaler()\n",
    "X_scaled = scaler.fit_transform(X_transformed)\n",
    "X_standardize = pd.DataFrame(X_scaled,columns=X_transformed.columns)"
   ]
  },
  {
   "cell_type": "markdown",
   "metadata": {},
   "source": [
    "### Train/Test Split"
   ]
  },
  {
   "cell_type": "code",
   "execution_count": 19,
   "metadata": {},
   "outputs": [],
   "source": [
    "from sklearn.model_selection import train_test_split\n",
    "X_train, X_test, y_train, y_test = train_test_split(X_transformed, y, test_size=0.3, random_state=50)"
   ]
  },
  {
   "cell_type": "markdown",
   "metadata": {
    "colab_type": "text",
    "id": "j-3ZTonbJvlQ"
   },
   "source": [
    "### Training"
   ]
  },
  {
   "cell_type": "code",
   "execution_count": 20,
   "metadata": {
    "colab": {
     "autoexec": {
      "startup": false,
      "wait_interval": 0
     }
    },
    "colab_type": "code",
    "id": "dL4qzRD-Jvl2"
   },
   "outputs": [],
   "source": [
    "from sklearn.neighbors import KNeighborsClassifier\n",
    "from sklearn.metrics import classification_report\n",
    "knn = KNeighborsClassifier()"
   ]
  },
  {
   "cell_type": "code",
   "execution_count": 21,
   "metadata": {
    "colab": {
     "autoexec": {
      "startup": false,
      "wait_interval": 0
     }
    },
    "colab_type": "code",
    "id": "iEfMCOPYJvl9",
    "outputId": "5f65a7ec-31ef-49de-da97-c94bbe49ad4b"
   },
   "outputs": [
    {
     "data": {
      "text/plain": [
       "KNeighborsClassifier(algorithm='auto', leaf_size=30, metric='minkowski',\n",
       "                     metric_params=None, n_jobs=None, n_neighbors=5, p=2,\n",
       "                     weights='uniform')"
      ]
     },
     "execution_count": 21,
     "metadata": {},
     "output_type": "execute_result"
    }
   ],
   "source": [
    "knn.fit(X_train, y_train)"
   ]
  },
  {
   "cell_type": "markdown",
   "metadata": {
    "colab_type": "text",
    "id": "_KLUONOAJvmC"
   },
   "source": [
    "### Predicting"
   ]
  },
  {
   "cell_type": "code",
   "execution_count": 22,
   "metadata": {},
   "outputs": [],
   "source": [
    "pred_knn = knn.predict(X_test)"
   ]
  },
  {
   "cell_type": "code",
   "execution_count": 23,
   "metadata": {},
   "outputs": [
    {
     "name": "stdout",
     "output_type": "stream",
     "text": [
      "                         precision    recall  f1-score   support\n",
      "\n",
      "                              0.21      1.00      0.35        45\n",
      "          COMMUNICATION       1.00      0.59      0.74        17\n",
      "ENTERTAINMENT & EAT OUT       1.00      0.19      0.32        52\n",
      "                   FEES       1.00      0.86      0.93        37\n",
      "                   FOOD       0.00      0.00      0.00         7\n",
      "      GIFTS & DONATIONS       1.00      0.20      0.33         5\n",
      "                   HOME       0.00      0.00      0.00         4\n",
      "        LIFE AND HEALTH       0.00      0.00      0.00         5\n",
      "                  OTHER       0.00      0.00      0.00         2\n",
      "  SAVING AND INVESTMENT       0.00      0.00      0.00         5\n",
      "      SHORT-TERM CREDIT       0.00      0.00      0.00         5\n",
      "              TRANSPORT       1.00      0.17      0.30        98\n",
      "\n",
      "               accuracy                           0.41       282\n",
      "              macro avg       0.43      0.25      0.25       282\n",
      "           weighted avg       0.78      0.41      0.39       282\n",
      "\n"
     ]
    },
    {
     "name": "stderr",
     "output_type": "stream",
     "text": [
      "C:\\Users\\kutlw\\Anaconda3\\lib\\site-packages\\sklearn\\metrics\\classification.py:1437: UndefinedMetricWarning: Precision and F-score are ill-defined and being set to 0.0 in labels with no predicted samples.\n",
      "  'precision', 'predicted', average, warn_for)\n"
     ]
    }
   ],
   "source": [
    "print(classification_report(y_test, pred_knn))"
   ]
  },
  {
   "cell_type": "markdown",
   "metadata": {},
   "source": [
    "## Final Model "
   ]
  },
  {
   "cell_type": "code",
   "execution_count": 24,
   "metadata": {},
   "outputs": [],
   "source": [
    "FinalModel = pd.DataFrame({'Description' : df_DesValue1[X_train.shape[0]:],'category' : pred_knn.ravel()})"
   ]
  },
  {
   "cell_type": "code",
   "execution_count": 26,
   "metadata": {},
   "outputs": [
    {
     "data": {
      "text/html": [
       "<div>\n",
       "<style scoped>\n",
       "    .dataframe tbody tr th:only-of-type {\n",
       "        vertical-align: middle;\n",
       "    }\n",
       "\n",
       "    .dataframe tbody tr th {\n",
       "        vertical-align: top;\n",
       "    }\n",
       "\n",
       "    .dataframe thead th {\n",
       "        text-align: right;\n",
       "    }\n",
       "</style>\n",
       "<table border=\"1\" class=\"dataframe\">\n",
       "  <thead>\n",
       "    <tr style=\"text-align: right;\">\n",
       "      <th></th>\n",
       "      <th>Description</th>\n",
       "      <th>category</th>\n",
       "    </tr>\n",
       "  </thead>\n",
       "  <tbody>\n",
       "    <tr>\n",
       "      <td>0</td>\n",
       "      <td>VOD PREPAID 0825197505</td>\n",
       "      <td></td>\n",
       "    </tr>\n",
       "    <tr>\n",
       "      <td>1</td>\n",
       "      <td>FEE - PRE-PAID TOP UP</td>\n",
       "      <td></td>\n",
       "    </tr>\n",
       "    <tr>\n",
       "      <td>2</td>\n",
       "      <td>DR M MOKITIMI 401509249</td>\n",
       "      <td></td>\n",
       "    </tr>\n",
       "    <tr>\n",
       "      <td>3</td>\n",
       "      <td>VEE 401509249</td>\n",
       "      <td>FEES</td>\n",
       "    </tr>\n",
       "    <tr>\n",
       "      <td>4</td>\n",
       "      <td>BUDGET2019</td>\n",
       "      <td>COMMUNICATION</td>\n",
       "    </tr>\n",
       "    <tr>\n",
       "      <td>5</td>\n",
       "      <td>SPOTIFYZA 5326*9249 20 DEC</td>\n",
       "      <td>FEES</td>\n",
       "    </tr>\n",
       "    <tr>\n",
       "      <td>6</td>\n",
       "      <td>VOD PREPAID 0825197505</td>\n",
       "      <td></td>\n",
       "    </tr>\n",
       "    <tr>\n",
       "      <td>7</td>\n",
       "      <td>FEE - PRE-PAID TOP UP</td>\n",
       "      <td></td>\n",
       "    </tr>\n",
       "    <tr>\n",
       "      <td>8</td>\n",
       "      <td>VOD PREPAID 0825197505</td>\n",
       "      <td></td>\n",
       "    </tr>\n",
       "    <tr>\n",
       "      <td>9</td>\n",
       "      <td>FEE - PRE-PAID TOP UP</td>\n",
       "      <td></td>\n",
       "    </tr>\n",
       "    <tr>\n",
       "      <td>10</td>\n",
       "      <td>!INTL. TRANS F5326572401509249</td>\n",
       "      <td></td>\n",
       "    </tr>\n",
       "    <tr>\n",
       "      <td>11</td>\n",
       "      <td>BABY (M.O.T) 401509249</td>\n",
       "      <td></td>\n",
       "    </tr>\n",
       "    <tr>\n",
       "      <td>12</td>\n",
       "      <td>FEE - OTHER BANK ATM</td>\n",
       "      <td>FEES</td>\n",
       "    </tr>\n",
       "    <tr>\n",
       "      <td>13</td>\n",
       "      <td>RSMIO* RESUME 5326*9249 21 DEC</td>\n",
       "      <td></td>\n",
       "    </tr>\n",
       "    <tr>\n",
       "      <td>14</td>\n",
       "      <td>C*THE DINER E 5326*9249 20 DEC</td>\n",
       "      <td></td>\n",
       "    </tr>\n",
       "    <tr>\n",
       "      <td>15</td>\n",
       "      <td>I*L*FLYSAFAIR 5326*9249 20 DEC</td>\n",
       "      <td></td>\n",
       "    </tr>\n",
       "    <tr>\n",
       "      <td>16</td>\n",
       "      <td>ME</td>\n",
       "      <td></td>\n",
       "    </tr>\n",
       "    <tr>\n",
       "      <td>17</td>\n",
       "      <td>!INTL. TRANS F5326572401509249</td>\n",
       "      <td></td>\n",
       "    </tr>\n",
       "    <tr>\n",
       "      <td>18</td>\n",
       "      <td>C*STUDIO MOMA 5326*9249 22 DEC</td>\n",
       "      <td></td>\n",
       "    </tr>\n",
       "    <tr>\n",
       "      <td>19</td>\n",
       "      <td>C*CALTEX FACT 5326*9249 22 DEC</td>\n",
       "      <td></td>\n",
       "    </tr>\n",
       "    <tr>\n",
       "      <td>20</td>\n",
       "      <td>C*CALTEX FAIR 5326*9249 20 DEC</td>\n",
       "      <td>ENTERTAINMENT &amp; EAT OUT</td>\n",
       "    </tr>\n",
       "    <tr>\n",
       "      <td>21</td>\n",
       "      <td>M*WOOLWORTHS 5326*9249 21 DEC</td>\n",
       "      <td></td>\n",
       "    </tr>\n",
       "    <tr>\n",
       "      <td>22</td>\n",
       "      <td>C*CALTEX FAIR 5326*9249 20 DEC</td>\n",
       "      <td></td>\n",
       "    </tr>\n",
       "    <tr>\n",
       "      <td>23</td>\n",
       "      <td>C*BP LUIPAARD 5326*9249 20 DEC</td>\n",
       "      <td></td>\n",
       "    </tr>\n",
       "    <tr>\n",
       "      <td>24</td>\n",
       "      <td>FEE - PRE-PAID TOP UP</td>\n",
       "      <td></td>\n",
       "    </tr>\n",
       "    <tr>\n",
       "      <td>25</td>\n",
       "      <td>FEE - OTHER BANK ATM</td>\n",
       "      <td></td>\n",
       "    </tr>\n",
       "    <tr>\n",
       "      <td>26</td>\n",
       "      <td>!INTL. TRANS F5326572401509249</td>\n",
       "      <td></td>\n",
       "    </tr>\n",
       "    <tr>\n",
       "      <td>27</td>\n",
       "      <td>UBER SA HE GAUTENG ZAF 26-12-2019 13H29:20</td>\n",
       "      <td>FEES</td>\n",
       "    </tr>\n",
       "    <tr>\n",
       "      <td>28</td>\n",
       "      <td>PNP LIQ FERND 5326*9249 22 DEC</td>\n",
       "      <td></td>\n",
       "    </tr>\n",
       "    <tr>\n",
       "      <td>29</td>\n",
       "      <td>C*TOTAL RA 14 5326*9249 22 DEC</td>\n",
       "      <td></td>\n",
       "    </tr>\n",
       "    <tr>\n",
       "      <td>30</td>\n",
       "      <td>M#HERTZ RENT 5326*9249 23 DEC</td>\n",
       "      <td></td>\n",
       "    </tr>\n",
       "    <tr>\n",
       "      <td>31</td>\n",
       "      <td>C*PNP FAMILY 5326*9249 23 DEC</td>\n",
       "      <td></td>\n",
       "    </tr>\n",
       "    <tr>\n",
       "      <td>32</td>\n",
       "      <td>M*UBER SA HEL 5326*9249 23 DEC</td>\n",
       "      <td></td>\n",
       "    </tr>\n",
       "    <tr>\n",
       "      <td>33</td>\n",
       "      <td>C*SWEET TREAT 5326*9249 23 DEC</td>\n",
       "      <td>TRANSPORT</td>\n",
       "    </tr>\n",
       "    <tr>\n",
       "      <td>34</td>\n",
       "      <td>C*H&amp;M ROSEBAN 5326*9249 22 DEC</td>\n",
       "      <td></td>\n",
       "    </tr>\n",
       "    <tr>\n",
       "      <td>35</td>\n",
       "      <td>MCD VICTORY P 5326*9249 22 DEC</td>\n",
       "      <td>FEES</td>\n",
       "    </tr>\n",
       "    <tr>\n",
       "      <td>36</td>\n",
       "      <td>UBER SA HE GAUTENG ZAF 27-12-2019 13H39:24</td>\n",
       "      <td></td>\n",
       "    </tr>\n",
       "    <tr>\n",
       "      <td>37</td>\n",
       "      <td>FEE- POS DECLINED INSUFF FUNDS</td>\n",
       "      <td></td>\n",
       "    </tr>\n",
       "    <tr>\n",
       "      <td>38</td>\n",
       "      <td>UBER SA HE GAUTENG ZAF 27-12-2019 19H09:30</td>\n",
       "      <td></td>\n",
       "    </tr>\n",
       "    <tr>\n",
       "      <td>39</td>\n",
       "      <td>OVERDRAFT INTEREST</td>\n",
       "      <td></td>\n",
       "    </tr>\n",
       "    <tr>\n",
       "      <td>40</td>\n",
       "      <td>EXCESS INTEREST</td>\n",
       "      <td></td>\n",
       "    </tr>\n",
       "    <tr>\n",
       "      <td>41</td>\n",
       "      <td>C*BMS INTERSI 5326*9249 24 DEC</td>\n",
       "      <td>FEES</td>\n",
       "    </tr>\n",
       "    <tr>\n",
       "      <td>42</td>\n",
       "      <td>C*FOODLOVERS 5326*9249 24 DEC</td>\n",
       "      <td>FEES</td>\n",
       "    </tr>\n",
       "    <tr>\n",
       "      <td>43</td>\n",
       "      <td>M*UBER SA HEL 5326*9249 23 DEC</td>\n",
       "      <td></td>\n",
       "    </tr>\n",
       "    <tr>\n",
       "      <td>44</td>\n",
       "      <td>C*DECOFURN SP 5326*9249 24 DEC</td>\n",
       "      <td>COMMUNICATION</td>\n",
       "    </tr>\n",
       "    <tr>\n",
       "      <td>45</td>\n",
       "      <td>C*PEARLS VILL 5326*9249 24 DEC</td>\n",
       "      <td></td>\n",
       "    </tr>\n",
       "    <tr>\n",
       "      <td>46</td>\n",
       "      <td>C*ENGEN FAIRY 5326*9249 26 DEC</td>\n",
       "      <td></td>\n",
       "    </tr>\n",
       "    <tr>\n",
       "      <td>47</td>\n",
       "      <td>C*ENGEN HIPPO 5326*9249 25 DEC</td>\n",
       "      <td></td>\n",
       "    </tr>\n",
       "    <tr>\n",
       "      <td>48</td>\n",
       "      <td>C*CITY LATE T 5326*9249 26 DEC</td>\n",
       "      <td></td>\n",
       "    </tr>\n",
       "    <tr>\n",
       "      <td>49</td>\n",
       "      <td>PNP HPR PROSP 5326*9249 25 DEC</td>\n",
       "      <td></td>\n",
       "    </tr>\n",
       "  </tbody>\n",
       "</table>\n",
       "</div>"
      ],
      "text/plain": [
       "                                   Description                 category\n",
       "0                       VOD PREPAID 0825197505                         \n",
       "1                        FEE - PRE-PAID TOP UP                         \n",
       "2                      DR M MOKITIMI 401509249                         \n",
       "3                                VEE 401509249                     FEES\n",
       "4                                   BUDGET2019            COMMUNICATION\n",
       "5                   SPOTIFYZA 5326*9249 20 DEC                     FEES\n",
       "6                       VOD PREPAID 0825197505                         \n",
       "7                        FEE - PRE-PAID TOP UP                         \n",
       "8                       VOD PREPAID 0825197505                         \n",
       "9                        FEE - PRE-PAID TOP UP                         \n",
       "10              !INTL. TRANS F5326572401509249                         \n",
       "11                      BABY (M.O.T) 401509249                         \n",
       "12                        FEE - OTHER BANK ATM                     FEES\n",
       "13              RSMIO* RESUME 5326*9249 21 DEC                         \n",
       "14              C*THE DINER E 5326*9249 20 DEC                         \n",
       "15              I*L*FLYSAFAIR 5326*9249 20 DEC                         \n",
       "16                                          ME                         \n",
       "17              !INTL. TRANS F5326572401509249                         \n",
       "18              C*STUDIO MOMA 5326*9249 22 DEC                         \n",
       "19              C*CALTEX FACT 5326*9249 22 DEC                         \n",
       "20              C*CALTEX FAIR 5326*9249 20 DEC  ENTERTAINMENT & EAT OUT\n",
       "21               M*WOOLWORTHS 5326*9249 21 DEC                         \n",
       "22              C*CALTEX FAIR 5326*9249 20 DEC                         \n",
       "23              C*BP LUIPAARD 5326*9249 20 DEC                         \n",
       "24                       FEE - PRE-PAID TOP UP                         \n",
       "25                        FEE - OTHER BANK ATM                         \n",
       "26              !INTL. TRANS F5326572401509249                         \n",
       "27  UBER SA HE GAUTENG ZAF 26-12-2019 13H29:20                     FEES\n",
       "28              PNP LIQ FERND 5326*9249 22 DEC                         \n",
       "29              C*TOTAL RA 14 5326*9249 22 DEC                         \n",
       "30               M#HERTZ RENT 5326*9249 23 DEC                         \n",
       "31               C*PNP FAMILY 5326*9249 23 DEC                         \n",
       "32              M*UBER SA HEL 5326*9249 23 DEC                         \n",
       "33              C*SWEET TREAT 5326*9249 23 DEC                TRANSPORT\n",
       "34              C*H&M ROSEBAN 5326*9249 22 DEC                         \n",
       "35              MCD VICTORY P 5326*9249 22 DEC                     FEES\n",
       "36  UBER SA HE GAUTENG ZAF 27-12-2019 13H39:24                         \n",
       "37              FEE- POS DECLINED INSUFF FUNDS                         \n",
       "38  UBER SA HE GAUTENG ZAF 27-12-2019 19H09:30                         \n",
       "39                          OVERDRAFT INTEREST                         \n",
       "40                             EXCESS INTEREST                         \n",
       "41              C*BMS INTERSI 5326*9249 24 DEC                     FEES\n",
       "42               C*FOODLOVERS 5326*9249 24 DEC                     FEES\n",
       "43              M*UBER SA HEL 5326*9249 23 DEC                         \n",
       "44              C*DECOFURN SP 5326*9249 24 DEC            COMMUNICATION\n",
       "45              C*PEARLS VILL 5326*9249 24 DEC                         \n",
       "46              C*ENGEN FAIRY 5326*9249 26 DEC                         \n",
       "47              C*ENGEN HIPPO 5326*9249 25 DEC                         \n",
       "48              C*CITY LATE T 5326*9249 26 DEC                         \n",
       "49              PNP HPR PROSP 5326*9249 25 DEC                         "
      ]
     },
     "execution_count": 26,
     "metadata": {},
     "output_type": "execute_result"
    }
   ],
   "source": [
    "FinalModel.head(50)"
   ]
  },
  {
   "cell_type": "code",
   "execution_count": null,
   "metadata": {},
   "outputs": [],
   "source": []
  }
 ],
 "metadata": {
  "colab": {
   "default_view": {},
   "name": "Classification Algorithms.ipynb",
   "provenance": [],
   "version": "0.3.2",
   "views": {}
  },
  "kernelspec": {
   "display_name": "Python 3",
   "language": "python",
   "name": "python3"
  },
  "language_info": {
   "codemirror_mode": {
    "name": "ipython",
    "version": 3
   },
   "file_extension": ".py",
   "mimetype": "text/x-python",
   "name": "python",
   "nbconvert_exporter": "python",
   "pygments_lexer": "ipython3",
   "version": "3.7.4"
  }
 },
 "nbformat": 4,
 "nbformat_minor": 1
}
